{
 "cells": [
  {
   "cell_type": "code",
   "execution_count": 1,
   "metadata": {
    "colab": {
     "base_uri": "https://localhost:8080/",
     "height": 54
    },
    "colab_type": "code",
    "id": "-k5o7w4YcMXw",
    "outputId": "cf344746-ecb2-4286-e0a7-1a2006b97361"
   },
   "outputs": [
    {
     "name": "stdout",
     "output_type": "stream",
     "text": [
      "Drive already mounted at /content/drive; to attempt to forcibly remount, call drive.mount(\"/content/drive\", force_remount=True).\n"
     ]
    }
   ],
   "source": [
    "from google.colab import drive\n",
    "drive.mount('/content/drive')\n",
    "base_path = '/content/drive/My Drive/Stock/LSTM/'"
   ]
  },
  {
   "cell_type": "markdown",
   "metadata": {
    "colab_type": "text",
    "id": "rlrH1ARdX-2c"
   },
   "source": [
    "# Load Packages"
   ]
  },
  {
   "cell_type": "code",
   "execution_count": 2,
   "metadata": {
    "colab": {
     "base_uri": "https://localhost:8080/",
     "height": 34
    },
    "colab_type": "code",
    "id": "WjmZ2vzoXwNe",
    "outputId": "fb2afdc3-620f-438e-cb02-7cf75d1d39a6"
   },
   "outputs": [
    {
     "name": "stderr",
     "output_type": "stream",
     "text": [
      "Using TensorFlow backend.\n"
     ]
    }
   ],
   "source": [
    "from datetime import datetime\n",
    "from datetime import timedelta\n",
    "from datetime import date\n",
    "from pylab import rc, rcParams\n",
    "from sklearn.preprocessing import StandardScaler\n",
    "from keras.models import Sequential\n",
    "from keras.layers import Dense, Dropout, LSTM\n",
    "from keras.utils import plot_model\n",
    "from sklearn.metrics import mean_squared_error\n",
    "import pandas_datareader as web\n",
    "import csv\n",
    "import math\n",
    "import matplotlib\n",
    "import numpy as np\n",
    "import pandas as pd\n",
    "import os"
   ]
  },
  {
   "cell_type": "markdown",
   "metadata": {
    "colab_type": "text",
    "id": "dMEpc54hYTVj"
   },
   "source": [
    "# Parameters"
   ]
  },
  {
   "cell_type": "code",
   "execution_count": 0,
   "metadata": {
    "colab": {},
    "colab_type": "code",
    "id": "rD9tbgFUYSpf"
   },
   "outputs": [],
   "source": [
    "stock = 'acn' # stock\n",
    "days = 5000   # number of samples\n",
    "predict_var = 'adj_close'\n",
    "test_size = 0.2\n",
    "N=3           # using N value of x to get y \n",
    "\n",
    "lstm_units=128                 # lstm param\n",
    "dropout_prob=0.2               # lstm param\n",
    "optimizer='adam'               # lstm param\n",
    "epochs=200                     # lstm param\n",
    "batch_size=8                   # lstm param\n",
    "\n",
    "pred_N = 3                     # prediction param"
   ]
  },
  {
   "cell_type": "markdown",
   "metadata": {
    "colab_type": "text",
    "id": "1bE5qDjwX55X"
   },
   "source": [
    "# Load Stock Data"
   ]
  },
  {
   "cell_type": "code",
   "execution_count": 0,
   "metadata": {
    "colab": {},
    "colab_type": "code",
    "id": "MKbKdEzMYFeE"
   },
   "outputs": [],
   "source": [
    "# load stock history data from yahoo and save to csv file\n",
    "fileName = stock.upper()\n",
    "start = datetime.now() - timedelta(days=days)\n",
    "end = datetime.now()\n",
    "df = web.DataReader(stock, 'yahoo', start, end)\n",
    "startDay = start.strftime(\"%Y-%m-%d\")\n",
    "df.to_csv(os.path.join(base_path, fileName+'.csv'))"
   ]
  },
  {
   "cell_type": "code",
   "execution_count": 5,
   "metadata": {
    "colab": {
     "base_uri": "https://localhost:8080/",
     "height": 204
    },
    "colab_type": "code",
    "id": "5_lx7Uv9YQaq",
    "outputId": "ffe3c7d5-f594-4a12-8a7a-b56a89c3d8fa"
   },
   "outputs": [
    {
     "data": {
      "text/html": [
       "<div>\n",
       "<style scoped>\n",
       "    .dataframe tbody tr th:only-of-type {\n",
       "        vertical-align: middle;\n",
       "    }\n",
       "\n",
       "    .dataframe tbody tr th {\n",
       "        vertical-align: top;\n",
       "    }\n",
       "\n",
       "    .dataframe thead th {\n",
       "        text-align: right;\n",
       "    }\n",
       "</style>\n",
       "<table border=\"1\" class=\"dataframe\">\n",
       "  <thead>\n",
       "    <tr style=\"text-align: right;\">\n",
       "      <th></th>\n",
       "      <th>date</th>\n",
       "      <th>high</th>\n",
       "      <th>low</th>\n",
       "      <th>open</th>\n",
       "      <th>close</th>\n",
       "      <th>volume</th>\n",
       "      <th>adj_close</th>\n",
       "    </tr>\n",
       "  </thead>\n",
       "  <tbody>\n",
       "    <tr>\n",
       "      <th>0</th>\n",
       "      <td>2006-01-11</td>\n",
       "      <td>30.639999</td>\n",
       "      <td>30.059999</td>\n",
       "      <td>30.400000</td>\n",
       "      <td>30.639999</td>\n",
       "      <td>3241700.0</td>\n",
       "      <td>23.503866</td>\n",
       "    </tr>\n",
       "    <tr>\n",
       "      <th>1</th>\n",
       "      <td>2006-01-12</td>\n",
       "      <td>31.000000</td>\n",
       "      <td>30.540001</td>\n",
       "      <td>30.540001</td>\n",
       "      <td>30.590000</td>\n",
       "      <td>2459400.0</td>\n",
       "      <td>23.465506</td>\n",
       "    </tr>\n",
       "    <tr>\n",
       "      <th>2</th>\n",
       "      <td>2006-01-13</td>\n",
       "      <td>30.360001</td>\n",
       "      <td>30.070000</td>\n",
       "      <td>30.299999</td>\n",
       "      <td>30.209999</td>\n",
       "      <td>2486100.0</td>\n",
       "      <td>23.174007</td>\n",
       "    </tr>\n",
       "    <tr>\n",
       "      <th>3</th>\n",
       "      <td>2006-01-17</td>\n",
       "      <td>30.980000</td>\n",
       "      <td>29.500000</td>\n",
       "      <td>29.500000</td>\n",
       "      <td>30.840000</td>\n",
       "      <td>4440700.0</td>\n",
       "      <td>23.657282</td>\n",
       "    </tr>\n",
       "    <tr>\n",
       "      <th>4</th>\n",
       "      <td>2006-01-18</td>\n",
       "      <td>31.000000</td>\n",
       "      <td>30.410000</td>\n",
       "      <td>30.420000</td>\n",
       "      <td>30.990000</td>\n",
       "      <td>3454900.0</td>\n",
       "      <td>23.772346</td>\n",
       "    </tr>\n",
       "  </tbody>\n",
       "</table>\n",
       "</div>"
      ],
      "text/plain": [
       "        date       high        low       open      close     volume  adj_close\n",
       "0 2006-01-11  30.639999  30.059999  30.400000  30.639999  3241700.0  23.503866\n",
       "1 2006-01-12  31.000000  30.540001  30.540001  30.590000  2459400.0  23.465506\n",
       "2 2006-01-13  30.360001  30.070000  30.299999  30.209999  2486100.0  23.174007\n",
       "3 2006-01-17  30.980000  29.500000  29.500000  30.840000  4440700.0  23.657282\n",
       "4 2006-01-18  31.000000  30.410000  30.420000  30.990000  3454900.0  23.772346"
      ]
     },
     "execution_count": 5,
     "metadata": {
      "tags": []
     },
     "output_type": "execute_result"
    }
   ],
   "source": [
    "# display dataframe\n",
    "df = pd.read_csv(base_path+fileName+'.csv', sep = \",\")\n",
    "df.loc[:, 'Date'] = pd.to_datetime(df['Date'],format='%Y-%m-%d')\n",
    "df.columns = [str(x).lower().replace(' ', '_') for x in df.columns]\n",
    "df.sort_values(by='date', inplace=True, ascending=True)\n",
    "df.head()"
   ]
  },
  {
   "cell_type": "code",
   "execution_count": 6,
   "metadata": {
    "colab": {
     "base_uri": "https://localhost:8080/",
     "height": 204
    },
    "colab_type": "code",
    "id": "LPbN6O-FYqVB",
    "outputId": "8fa66070-f848-422c-87a9-1596b9892d8c"
   },
   "outputs": [
    {
     "data": {
      "text/html": [
       "<div>\n",
       "<style scoped>\n",
       "    .dataframe tbody tr th:only-of-type {\n",
       "        vertical-align: middle;\n",
       "    }\n",
       "\n",
       "    .dataframe tbody tr th {\n",
       "        vertical-align: top;\n",
       "    }\n",
       "\n",
       "    .dataframe thead th {\n",
       "        text-align: right;\n",
       "    }\n",
       "</style>\n",
       "<table border=\"1\" class=\"dataframe\">\n",
       "  <thead>\n",
       "    <tr style=\"text-align: right;\">\n",
       "      <th></th>\n",
       "      <th>date</th>\n",
       "      <th>high</th>\n",
       "      <th>low</th>\n",
       "      <th>open</th>\n",
       "      <th>close</th>\n",
       "      <th>volume</th>\n",
       "      <th>adj_close</th>\n",
       "    </tr>\n",
       "  </thead>\n",
       "  <tbody>\n",
       "    <tr>\n",
       "      <th>3441</th>\n",
       "      <td>2019-09-13</td>\n",
       "      <td>196.000000</td>\n",
       "      <td>193.960007</td>\n",
       "      <td>196.000000</td>\n",
       "      <td>194.619995</td>\n",
       "      <td>1592600.0</td>\n",
       "      <td>194.619995</td>\n",
       "    </tr>\n",
       "    <tr>\n",
       "      <th>3442</th>\n",
       "      <td>2019-09-16</td>\n",
       "      <td>195.220001</td>\n",
       "      <td>193.009995</td>\n",
       "      <td>193.369995</td>\n",
       "      <td>194.160004</td>\n",
       "      <td>1360000.0</td>\n",
       "      <td>194.160004</td>\n",
       "    </tr>\n",
       "    <tr>\n",
       "      <th>3443</th>\n",
       "      <td>2019-09-17</td>\n",
       "      <td>195.789993</td>\n",
       "      <td>193.360001</td>\n",
       "      <td>193.360001</td>\n",
       "      <td>194.949997</td>\n",
       "      <td>1457800.0</td>\n",
       "      <td>194.949997</td>\n",
       "    </tr>\n",
       "    <tr>\n",
       "      <th>3444</th>\n",
       "      <td>2019-09-18</td>\n",
       "      <td>194.589996</td>\n",
       "      <td>191.539993</td>\n",
       "      <td>194.179993</td>\n",
       "      <td>194.130005</td>\n",
       "      <td>1780500.0</td>\n",
       "      <td>194.130005</td>\n",
       "    </tr>\n",
       "    <tr>\n",
       "      <th>3445</th>\n",
       "      <td>2019-09-19</td>\n",
       "      <td>196.130005</td>\n",
       "      <td>194.220001</td>\n",
       "      <td>194.479996</td>\n",
       "      <td>194.669998</td>\n",
       "      <td>1567900.0</td>\n",
       "      <td>194.669998</td>\n",
       "    </tr>\n",
       "  </tbody>\n",
       "</table>\n",
       "</div>"
      ],
      "text/plain": [
       "           date        high         low  ...       close     volume   adj_close\n",
       "3441 2019-09-13  196.000000  193.960007  ...  194.619995  1592600.0  194.619995\n",
       "3442 2019-09-16  195.220001  193.009995  ...  194.160004  1360000.0  194.160004\n",
       "3443 2019-09-17  195.789993  193.360001  ...  194.949997  1457800.0  194.949997\n",
       "3444 2019-09-18  194.589996  191.539993  ...  194.130005  1780500.0  194.130005\n",
       "3445 2019-09-19  196.130005  194.220001  ...  194.669998  1567900.0  194.669998\n",
       "\n",
       "[5 rows x 7 columns]"
      ]
     },
     "execution_count": 6,
     "metadata": {
      "tags": []
     },
     "output_type": "execute_result"
    }
   ],
   "source": [
    "df.tail()"
   ]
  },
  {
   "cell_type": "code",
   "execution_count": 7,
   "metadata": {
    "colab": {
     "base_uri": "https://localhost:8080/",
     "height": 485
    },
    "colab_type": "code",
    "id": "lITOc2j_YuV5",
    "outputId": "cfc258c0-0b6d-46d6-fcf9-723ecbe5ab1c"
   },
   "outputs": [
    {
     "data": {
      "text/plain": [
       "Text(0, 0.5, 'USD')"
      ]
     },
     "execution_count": 7,
     "metadata": {
      "tags": []
     },
     "output_type": "execute_result"
    },
    {
     "data": {
      "image/png": "[encoded data removed]",
      "text/plain": [
       "<Figure size 720x576 with 1 Axes>"
      ]
     },
     "metadata": {
      "tags": []
     },
     "output_type": "display_data"
    }
   ],
   "source": [
    "# plot history data\n",
    "rcParams['figure.figsize'] = 10, 8 # width 10, height 8\n",
    "ax = df.plot(x='date', y=predict_var, style='b-', grid=True)\n",
    "ax.set_xlabel(\"date\")\n",
    "ax.set_ylabel(\"USD\")"
   ]
  },
  {
   "cell_type": "markdown",
   "metadata": {
    "colab_type": "text",
    "id": "E9sLGWOWsa1_"
   },
   "source": [
    "# Modeling\n",
    "This part is for modeling. If you have already train your model, you can skip to prediction."
   ]
  },
  {
   "cell_type": "markdown",
   "metadata": {
    "colab_type": "text",
    "id": "I0YkQX1IZTHi"
   },
   "source": [
    "## Split into train and test sets"
   ]
  },
  {
   "cell_type": "code",
   "execution_count": 8,
   "metadata": {
    "colab": {
     "base_uri": "https://localhost:8080/",
     "height": 51
    },
    "colab_type": "code",
    "id": "O16_uM5tY5GQ",
    "outputId": "f863c6a2-a51c-4d90-8d1a-d6bb3f5e770c"
   },
   "outputs": [
    {
     "name": "stdout",
     "output_type": "stream",
     "text": [
      "Number of testing is: 689\n",
      "Number of training is: 2757\n"
     ]
    }
   ],
   "source": [
    "num_test = int(test_size*len(df))\n",
    "num_train = len(df) - num_test\n",
    "print(\"Number of testing is: \"+str(num_test))\n",
    "print(\"Number of training is: \"+str(num_train))"
   ]
  },
  {
   "cell_type": "code",
   "execution_count": 9,
   "metadata": {
    "colab": {
     "base_uri": "https://localhost:8080/",
     "height": 51
    },
    "colab_type": "code",
    "id": "5pcGO_1oZucU",
    "outputId": "bc3aa658-3eaa-46ec-e641-bead97719317"
   },
   "outputs": [
    {
     "name": "stdout",
     "output_type": "stream",
     "text": [
      "train.shape = (2757, 2)\n",
      "test.shape = (689, 2)\n"
     ]
    }
   ],
   "source": [
    "train = df[:num_train][['date', predict_var]]\n",
    "test = df[num_train:][['date', predict_var]]\n",
    "print(\"train.shape = \" + str(train.shape))\n",
    "print(\"test.shape = \" + str(test.shape))"
   ]
  },
  {
   "cell_type": "code",
   "execution_count": 10,
   "metadata": {
    "colab": {
     "base_uri": "https://localhost:8080/",
     "height": 51
    },
    "colab_type": "code",
    "id": "S7-umN4NIxcI",
    "outputId": "62551156-db77-4624-fa6f-99b2871a7e85"
   },
   "outputs": [
    {
     "name": "stdout",
     "output_type": "stream",
     "text": [
      "x_train_scaled.shape = (2754, 3, 1)\n",
      "y_train_scaled.shape = (2754, 1)\n"
     ]
    }
   ],
   "source": [
    "# scaled train data\n",
    "x_scaled, y_scaled = [], []\n",
    "for i in range(N, len(train)):\n",
    "    data_x_y = train[i-N:i+1]\n",
    "    data_x_y = np.array(data_x_y[predict_var]).reshape(-1,1)\n",
    "    scaler = StandardScaler()\n",
    "    train_scaled = scaler.fit_transform(data_x_y)\n",
    "    x_scaled.append(train_scaled[0:N])\n",
    "    y_scaled.append(train_scaled[N])    \n",
    "x_train_scaled = np.array(x_scaled)\n",
    "y_train_scaled = np.array(y_scaled)\n",
    "\n",
    "print(\"x_train_scaled.shape = \" + str(x_train_scaled.shape))\n",
    "print(\"y_train_scaled.shape = \" + str(y_train_scaled.shape))"
   ]
  },
  {
   "cell_type": "code",
   "execution_count": 11,
   "metadata": {
    "colab": {
     "base_uri": "https://localhost:8080/",
     "height": 51
    },
    "colab_type": "code",
    "id": "gKGtib4PcJmE",
    "outputId": "5a2c5377-3b29-4026-884b-4916e3f197b2"
   },
   "outputs": [
    {
     "name": "stdout",
     "output_type": "stream",
     "text": [
      "x_test_scaled.shape = (689, 3, 1)\n",
      "y_test_scaled.shape = (689, 1)\n"
     ]
    }
   ],
   "source": [
    "# sclaed test data\n",
    "x_test_scaled, y_test, mu_test, std_test = [], [], [], []\n",
    "for i in range(num_train, len(df)):\n",
    "    data_x_y = df[i-N:i+1]\n",
    "    data_x_y = np.array(data_x_y[predict_var]).reshape(-1,1)\n",
    "    mean = np.mean(data_x_y[0:N])\n",
    "    std_ = np.std(data_x_y[0:N])\n",
    "    x_test_scaled.append((data_x_y[0:N]-mean)/std_)\n",
    "    y_test.append(data_x_y[N])\n",
    "    mu_test.append(mean)\n",
    "    std_test.append(std_)\n",
    "        \n",
    "x_test_scaled = np.array(x_test_scaled)\n",
    "y_test = np.array(y_test)\n",
    "print(\"x_test_scaled.shape = \" + str(x_test_scaled.shape))\n",
    "print(\"y_test_scaled.shape = \" + str(y_test.shape))\n"
   ]
  },
  {
   "cell_type": "markdown",
   "metadata": {
    "colab_type": "text",
    "id": "KsHMy4IDeKAC"
   },
   "source": [
    "## Train Model"
   ]
  },
  {
   "cell_type": "code",
   "execution_count": 12,
   "metadata": {
    "colab": {
     "base_uri": "https://localhost:8080/",
     "height": 1000
    },
    "colab_type": "code",
    "id": "RREqrLgseMxi",
    "outputId": "25db65e9-42b3-4e5a-dd77-055366fb2191"
   },
   "outputs": [
    {
     "name": "stdout",
     "output_type": "stream",
     "text": [
      "WARNING:tensorflow:From /usr/local/lib/python3.6/dist-packages/keras/backend/tensorflow_backend.py:66: The name tf.get_default_graph is deprecated. Please use tf.compat.v1.get_default_graph instead.\n",
      "\n",
      "WARNING:tensorflow:From /usr/local/lib/python3.6/dist-packages/keras/backend/tensorflow_backend.py:541: The name tf.placeholder is deprecated. Please use tf.compat.v1.placeholder instead.\n",
      "\n",
      "WARNING:tensorflow:From /usr/local/lib/python3.6/dist-packages/keras/backend/tensorflow_backend.py:4432: The name tf.random_uniform is deprecated. Please use tf.random.uniform instead.\n",
      "\n",
      "WARNING:tensorflow:From /usr/local/lib/python3.6/dist-packages/keras/backend/tensorflow_backend.py:148: The name tf.placeholder_with_default is deprecated. Please use tf.compat.v1.placeholder_with_default instead.\n",
      "\n",
      "WARNING:tensorflow:From /usr/local/lib/python3.6/dist-packages/keras/backend/tensorflow_backend.py:3733: calling dropout (from tensorflow.python.ops.nn_ops) with keep_prob is deprecated and will be removed in a future version.\n",
      "Instructions for updating:\n",
      "Please use `rate` instead of `keep_prob`. Rate should be set to `rate = 1 - keep_prob`.\n",
      "WARNING:tensorflow:From /usr/local/lib/python3.6/dist-packages/keras/optimizers.py:793: The name tf.train.Optimizer is deprecated. Please use tf.compat.v1.train.Optimizer instead.\n",
      "\n",
      "WARNING:tensorflow:From /usr/local/lib/python3.6/dist-packages/tensorflow/python/ops/math_grad.py:1250: add_dispatch_support.<locals>.wrapper (from tensorflow.python.ops.array_ops) is deprecated and will be removed in a future version.\n",
      "Instructions for updating:\n",
      "Use tf.where in 2.0, which has the same broadcast rule as np.where\n",
      "WARNING:tensorflow:From /usr/local/lib/python3.6/dist-packages/keras/backend/tensorflow_backend.py:1033: The name tf.assign_add is deprecated. Please use tf.compat.v1.assign_add instead.\n",
      "\n",
      "Epoch 1/200\n",
      " - 5s - loss: 0.1156\n",
      "Epoch 2/200\n",
      " - 4s - loss: 0.0074\n",
      "Epoch 3/200\n",
      " - 4s - loss: 0.0073\n",
      "Epoch 4/200\n",
      " - 4s - loss: 0.0070\n",
      "Epoch 5/200\n",
      " - 4s - loss: 0.0067\n",
      "Epoch 6/200\n",
      " - 4s - loss: 0.0073\n",
      "Epoch 7/200\n",
      " - 4s - loss: 0.0066\n",
      "Epoch 8/200\n",
      " - 4s - loss: 0.0072\n",
      "Epoch 9/200\n",
      " - 4s - loss: 0.0069\n",
      "Epoch 10/200\n",
      " - 4s - loss: 0.0060\n",
      "Epoch 11/200\n",
      " - 4s - loss: 0.0068\n",
      "Epoch 12/200\n",
      " - 4s - loss: 0.0069\n",
      "Epoch 13/200\n",
      " - 4s - loss: 0.0066\n",
      "Epoch 14/200\n",
      " - 4s - loss: 0.0064\n",
      "Epoch 15/200\n",
      " - 4s - loss: 0.0059\n",
      "Epoch 16/200\n",
      " - 4s - loss: 0.0062\n",
      "Epoch 17/200\n",
      " - 4s - loss: 0.0066\n",
      "Epoch 18/200\n",
      " - 4s - loss: 0.0067\n",
      "Epoch 19/200\n",
      " - 4s - loss: 0.0065\n",
      "Epoch 20/200\n",
      " - 4s - loss: 0.0057\n",
      "Epoch 21/200\n",
      " - 4s - loss: 0.0072\n",
      "Epoch 22/200\n",
      " - 4s - loss: 0.0059\n",
      "Epoch 23/200\n",
      " - 4s - loss: 0.0055\n",
      "Epoch 24/200\n",
      " - 4s - loss: 0.0062\n",
      "Epoch 25/200\n",
      " - 4s - loss: 0.0059\n",
      "Epoch 26/200\n",
      " - 4s - loss: 0.0059\n",
      "Epoch 27/200\n",
      " - 4s - loss: 0.0057\n",
      "Epoch 28/200\n",
      " - 4s - loss: 0.0058\n",
      "Epoch 29/200\n",
      " - 4s - loss: 0.0056\n",
      "Epoch 30/200\n",
      " - 4s - loss: 0.0061\n",
      "Epoch 31/200\n",
      " - 4s - loss: 0.0056\n",
      "Epoch 32/200\n",
      " - 4s - loss: 0.0056\n",
      "Epoch 33/200\n",
      " - 4s - loss: 0.0057\n",
      "Epoch 34/200\n",
      " - 4s - loss: 0.0058\n",
      "Epoch 35/200\n",
      " - 4s - loss: 0.0054\n",
      "Epoch 36/200\n",
      " - 4s - loss: 0.0055\n",
      "Epoch 37/200\n",
      " - 4s - loss: 0.0051\n",
      "Epoch 38/200\n",
      " - 4s - loss: 0.0050\n",
      "Epoch 39/200\n",
      " - 4s - loss: 0.0053\n",
      "Epoch 40/200\n",
      " - 4s - loss: 0.0053\n",
      "Epoch 41/200\n",
      " - 4s - loss: 0.0055\n",
      "Epoch 42/200\n",
      " - 4s - loss: 0.0050\n",
      "Epoch 43/200\n",
      " - 4s - loss: 0.0055\n",
      "Epoch 44/200\n",
      " - 4s - loss: 0.0050\n",
      "Epoch 45/200\n",
      " - 4s - loss: 0.0052\n",
      "Epoch 46/200\n",
      " - 4s - loss: 0.0048\n",
      "Epoch 47/200\n",
      " - 4s - loss: 0.0047\n",
      "Epoch 48/200\n",
      " - 4s - loss: 0.0048\n",
      "Epoch 49/200\n",
      " - 4s - loss: 0.0047\n",
      "Epoch 50/200\n",
      " - 4s - loss: 0.0050\n",
      "Epoch 51/200\n",
      " - 4s - loss: 0.0047\n",
      "Epoch 52/200\n",
      " - 4s - loss: 0.0048\n",
      "Epoch 53/200\n",
      " - 4s - loss: 0.0047\n",
      "Epoch 54/200\n",
      " - 4s - loss: 0.0045\n",
      "Epoch 55/200\n",
      " - 4s - loss: 0.0048\n",
      "Epoch 56/200\n",
      " - 4s - loss: 0.0046\n",
      "Epoch 57/200\n",
      " - 4s - loss: 0.0046\n",
      "Epoch 58/200\n",
      " - 4s - loss: 0.0049\n",
      "Epoch 59/200\n",
      " - 4s - loss: 0.0051\n",
      "Epoch 60/200\n",
      " - 4s - loss: 0.0053\n",
      "Epoch 61/200\n",
      " - 4s - loss: 0.0042\n",
      "Epoch 62/200\n",
      " - 4s - loss: 0.0045\n",
      "Epoch 63/200\n",
      " - 4s - loss: 0.0045\n",
      "Epoch 64/200\n",
      " - 4s - loss: 0.0048\n",
      "Epoch 65/200\n",
      " - 4s - loss: 0.0046\n",
      "Epoch 66/200\n",
      " - 4s - loss: 0.0047\n",
      "Epoch 67/200\n",
      " - 4s - loss: 0.0042\n",
      "Epoch 68/200\n",
      " - 4s - loss: 0.0045\n",
      "Epoch 69/200\n",
      " - 4s - loss: 0.0048\n",
      "Epoch 70/200\n",
      " - 4s - loss: 0.0042\n",
      "Epoch 71/200\n",
      " - 4s - loss: 0.0045\n",
      "Epoch 72/200\n",
      " - 4s - loss: 0.0047\n",
      "Epoch 73/200\n",
      " - 4s - loss: 0.0046\n",
      "Epoch 74/200\n",
      " - 4s - loss: 0.0041\n",
      "Epoch 75/200\n",
      " - 4s - loss: 0.0043\n",
      "Epoch 76/200\n",
      " - 4s - loss: 0.0038\n",
      "Epoch 77/200\n",
      " - 4s - loss: 0.0044\n",
      "Epoch 78/200\n",
      " - 4s - loss: 0.0049\n",
      "Epoch 79/200\n",
      " - 4s - loss: 0.0047\n",
      "Epoch 80/200\n",
      " - 4s - loss: 0.0045\n",
      "Epoch 81/200\n",
      " - 4s - loss: 0.0044\n",
      "Epoch 82/200\n",
      " - 4s - loss: 0.0045\n",
      "Epoch 83/200\n",
      " - 4s - loss: 0.0042\n",
      "Epoch 84/200\n",
      " - 4s - loss: 0.0045\n",
      "Epoch 85/200\n",
      " - 4s - loss: 0.0044\n",
      "Epoch 86/200\n",
      " - 4s - loss: 0.0046\n",
      "Epoch 87/200\n",
      " - 4s - loss: 0.0049\n",
      "Epoch 88/200\n",
      " - 4s - loss: 0.0042\n",
      "Epoch 89/200\n",
      " - 4s - loss: 0.0043\n",
      "Epoch 90/200\n",
      " - 4s - loss: 0.0041\n",
      "Epoch 91/200\n",
      " - 4s - loss: 0.0043\n",
      "Epoch 92/200\n",
      " - 4s - loss: 0.0043\n",
      "Epoch 93/200\n",
      " - 4s - loss: 0.0042\n",
      "Epoch 94/200\n",
      " - 4s - loss: 0.0042\n",
      "Epoch 95/200\n",
      " - 4s - loss: 0.0043\n",
      "Epoch 96/200\n",
      " - 4s - loss: 0.0041\n",
      "Epoch 97/200\n",
      " - 4s - loss: 0.0045\n",
      "Epoch 98/200\n",
      " - 4s - loss: 0.0041\n",
      "Epoch 99/200\n",
      " - 4s - loss: 0.0039\n",
      "Epoch 100/200\n",
      " - 4s - loss: 0.0041\n",
      "Epoch 101/200\n",
      " - 4s - loss: 0.0040\n",
      "Epoch 102/200\n",
      " - 4s - loss: 0.0041\n",
      "Epoch 103/200\n",
      " - 4s - loss: 0.0043\n",
      "Epoch 104/200\n",
      " - 4s - loss: 0.0042\n",
      "Epoch 105/200\n",
      " - 4s - loss: 0.0042\n",
      "Epoch 106/200\n",
      " - 4s - loss: 0.0042\n",
      "Epoch 107/200\n",
      " - 4s - loss: 0.0040\n",
      "Epoch 108/200\n",
      " - 4s - loss: 0.0039\n",
      "Epoch 109/200\n",
      " - 4s - loss: 0.0043\n",
      "Epoch 110/200\n",
      " - 4s - loss: 0.0041\n",
      "Epoch 111/200\n",
      " - 4s - loss: 0.0042\n",
      "Epoch 112/200\n",
      " - 4s - loss: 0.0040\n",
      "Epoch 113/200\n",
      " - 4s - loss: 0.0040\n",
      "Epoch 114/200\n",
      " - 4s - loss: 0.0042\n",
      "Epoch 115/200\n",
      " - 4s - loss: 0.0043\n",
      "Epoch 116/200\n",
      " - 4s - loss: 0.0038\n",
      "Epoch 117/200\n",
      " - 4s - loss: 0.0040\n",
      "Epoch 118/200\n",
      " - 4s - loss: 0.0039\n",
      "Epoch 119/200\n",
      " - 4s - loss: 0.0039\n",
      "Epoch 120/200\n",
      " - 4s - loss: 0.0038\n",
      "Epoch 121/200\n",
      " - 4s - loss: 0.0041\n",
      "Epoch 122/200\n",
      " - 4s - loss: 0.0040\n",
      "Epoch 123/200\n",
      " - 4s - loss: 0.0039\n",
      "Epoch 124/200\n",
      " - 4s - loss: 0.0045\n",
      "Epoch 125/200\n",
      " - 4s - loss: 0.0042\n",
      "Epoch 126/200\n",
      " - 4s - loss: 0.0038\n",
      "Epoch 127/200\n",
      " - 4s - loss: 0.0043\n",
      "Epoch 128/200\n",
      " - 4s - loss: 0.0039\n",
      "Epoch 129/200\n",
      " - 4s - loss: 0.0040\n",
      "Epoch 130/200\n",
      " - 4s - loss: 0.0040\n",
      "Epoch 131/200\n",
      " - 4s - loss: 0.0040\n",
      "Epoch 132/200\n",
      " - 4s - loss: 0.0038\n",
      "Epoch 133/200\n",
      " - 4s - loss: 0.0039\n",
      "Epoch 134/200\n",
      " - 4s - loss: 0.0037\n",
      "Epoch 135/200\n",
      " - 4s - loss: 0.0042\n",
      "Epoch 136/200\n",
      " - 4s - loss: 0.0039\n",
      "Epoch 137/200\n",
      " - 4s - loss: 0.0041\n",
      "Epoch 138/200\n",
      " - 4s - loss: 0.0043\n",
      "Epoch 139/200\n",
      " - 4s - loss: 0.0038\n",
      "Epoch 140/200\n",
      " - 4s - loss: 0.0038\n",
      "Epoch 141/200\n",
      " - 4s - loss: 0.0038\n",
      "Epoch 142/200\n",
      " - 4s - loss: 0.0044\n",
      "Epoch 143/200\n",
      " - 4s - loss: 0.0039\n",
      "Epoch 144/200\n",
      " - 4s - loss: 0.0041\n",
      "Epoch 145/200\n",
      " - 4s - loss: 0.0038\n",
      "Epoch 146/200\n",
      " - 4s - loss: 0.0040\n",
      "Epoch 147/200\n",
      " - 4s - loss: 0.0038\n",
      "Epoch 148/200\n",
      " - 4s - loss: 0.0037\n",
      "Epoch 149/200\n",
      " - 4s - loss: 0.0036\n",
      "Epoch 150/200\n",
      " - 4s - loss: 0.0039\n",
      "Epoch 151/200\n",
      " - 4s - loss: 0.0039\n",
      "Epoch 152/200\n",
      " - 4s - loss: 0.0041\n",
      "Epoch 153/200\n",
      " - 4s - loss: 0.0036\n",
      "Epoch 154/200\n",
      " - 4s - loss: 0.0038\n",
      "Epoch 155/200\n",
      " - 4s - loss: 0.0042\n",
      "Epoch 156/200\n",
      " - 4s - loss: 0.0038\n",
      "Epoch 157/200\n",
      " - 4s - loss: 0.0040\n",
      "Epoch 158/200\n",
      " - 4s - loss: 0.0037\n",
      "Epoch 159/200\n",
      " - 4s - loss: 0.0038\n",
      "Epoch 160/200\n",
      " - 4s - loss: 0.0040\n",
      "Epoch 161/200\n",
      " - 4s - loss: 0.0038\n",
      "Epoch 162/200\n",
      " - 4s - loss: 0.0036\n",
      "Epoch 163/200\n",
      " - 4s - loss: 0.0038\n",
      "Epoch 164/200\n",
      " - 4s - loss: 0.0039\n",
      "Epoch 165/200\n",
      " - 4s - loss: 0.0041\n",
      "Epoch 166/200\n",
      " - 4s - loss: 0.0037\n",
      "Epoch 167/200\n",
      " - 4s - loss: 0.0039\n",
      "Epoch 168/200\n",
      " - 4s - loss: 0.0039\n",
      "Epoch 169/200\n",
      " - 4s - loss: 0.0040\n",
      "Epoch 170/200\n",
      " - 4s - loss: 0.0040\n",
      "Epoch 171/200\n",
      " - 4s - loss: 0.0039\n",
      "Epoch 172/200\n",
      " - 4s - loss: 0.0040\n",
      "Epoch 173/200\n",
      " - 4s - loss: 0.0040\n",
      "Epoch 174/200\n",
      " - 4s - loss: 0.0039\n",
      "Epoch 175/200\n",
      " - 4s - loss: 0.0038\n",
      "Epoch 176/200\n",
      " - 4s - loss: 0.0038\n",
      "Epoch 177/200\n",
      " - 4s - loss: 0.0041\n",
      "Epoch 178/200\n",
      " - 4s - loss: 0.0037\n",
      "Epoch 179/200\n",
      " - 4s - loss: 0.0038\n",
      "Epoch 180/200\n",
      " - 4s - loss: 0.0039\n",
      "Epoch 181/200\n",
      " - 4s - loss: 0.0039\n",
      "Epoch 182/200\n",
      " - 4s - loss: 0.0039\n",
      "Epoch 183/200\n",
      " - 4s - loss: 0.0039\n",
      "Epoch 184/200\n",
      " - 4s - loss: 0.0040\n",
      "Epoch 185/200\n",
      " - 4s - loss: 0.0038\n",
      "Epoch 186/200\n",
      " - 4s - loss: 0.0038\n",
      "Epoch 187/200\n",
      " - 4s - loss: 0.0038\n",
      "Epoch 188/200\n",
      " - 4s - loss: 0.0037\n",
      "Epoch 189/200\n",
      " - 4s - loss: 0.0037\n",
      "Epoch 190/200\n",
      " - 4s - loss: 0.0035\n",
      "Epoch 191/200\n",
      " - 4s - loss: 0.0039\n",
      "Epoch 192/200\n",
      " - 4s - loss: 0.0041\n",
      "Epoch 193/200\n",
      " - 4s - loss: 0.0039\n",
      "Epoch 194/200\n",
      " - 4s - loss: 0.0037\n",
      "Epoch 195/200\n",
      " - 4s - loss: 0.0037\n",
      "Epoch 196/200\n",
      " - 4s - loss: 0.0039\n",
      "Epoch 197/200\n",
      " - 4s - loss: 0.0035\n",
      "Epoch 198/200\n",
      " - 4s - loss: 0.0038\n",
      "Epoch 199/200\n",
      " - 4s - loss: 0.0036\n",
      "Epoch 200/200\n",
      " - 4s - loss: 0.0038\n"
     ]
    },
    {
     "data": {
      "text/plain": [
       "<keras.callbacks.History at 0x7f66394f4898>"
      ]
     },
     "execution_count": 12,
     "metadata": {
      "tags": []
     },
     "output_type": "execute_result"
    }
   ],
   "source": [
    "model = Sequential()\n",
    "model.add(LSTM(units=lstm_units, return_sequences=True, input_shape=(x_train_scaled.shape[1],1)))\n",
    "model.add(Dropout(dropout_prob)) \n",
    "model.add(LSTM(units=lstm_units))\n",
    "model.add(Dropout(dropout_prob)) \n",
    "model.add(Dense(1))\n",
    "model.compile(loss='mean_squared_error', optimizer=optimizer)\n",
    "model.fit(x_train_scaled, y_train_scaled, epochs=epochs, batch_size=batch_size, verbose=2)"
   ]
  },
  {
   "cell_type": "markdown",
   "metadata": {
    "colab_type": "text",
    "id": "Fe2y_7CtfmzC"
   },
   "source": [
    "## Testing"
   ]
  },
  {
   "cell_type": "code",
   "execution_count": 13,
   "metadata": {
    "colab": {
     "base_uri": "https://localhost:8080/",
     "height": 34
    },
    "colab_type": "code",
    "id": "-QbOEcfghfp7",
    "outputId": "1bfed3ec-569b-43ce-a25e-505ac5671cf8"
   },
   "outputs": [
    {
     "data": {
      "text/plain": [
       "2.2116594602349156"
      ]
     },
     "execution_count": 13,
     "metadata": {
      "tags": []
     },
     "output_type": "execute_result"
    }
   ],
   "source": [
    "est_scaled = model.predict(x_test_scaled)\n",
    "est = (est_scaled * np.array(std_test).reshape(-1,1)) + np.array(mu_test).reshape(-1,1)\n",
    "rmse = math.sqrt(mean_squared_error(y_test, est))\n",
    "rmse"
   ]
  },
  {
   "cell_type": "code",
   "execution_count": 14,
   "metadata": {
    "colab": {
     "base_uri": "https://localhost:8080/",
     "height": 359
    },
    "colab_type": "code",
    "id": "B2OVUUwyW8PI",
    "outputId": "2e6b0888-6bb5-4cf4-e96e-e8d4f8f4f1d6"
   },
   "outputs": [
    {
     "data": {
      "text/html": [
       "<div>\n",
       "<style scoped>\n",
       "    .dataframe tbody tr th:only-of-type {\n",
       "        vertical-align: middle;\n",
       "    }\n",
       "\n",
       "    .dataframe tbody tr th {\n",
       "        vertical-align: top;\n",
       "    }\n",
       "\n",
       "    .dataframe thead th {\n",
       "        text-align: right;\n",
       "    }\n",
       "</style>\n",
       "<table border=\"1\" class=\"dataframe\">\n",
       "  <thead>\n",
       "    <tr style=\"text-align: right;\">\n",
       "      <th></th>\n",
       "      <th>date</th>\n",
       "      <th>pred_y</th>\n",
       "      <th>actual_y</th>\n",
       "    </tr>\n",
       "  </thead>\n",
       "  <tbody>\n",
       "    <tr>\n",
       "      <th>2757</th>\n",
       "      <td>2016-12-22</td>\n",
       "      <td>116.626904</td>\n",
       "      <td>112.483986</td>\n",
       "    </tr>\n",
       "    <tr>\n",
       "      <th>2758</th>\n",
       "      <td>2016-12-23</td>\n",
       "      <td>114.675915</td>\n",
       "      <td>112.187943</td>\n",
       "    </tr>\n",
       "    <tr>\n",
       "      <th>2759</th>\n",
       "      <td>2016-12-27</td>\n",
       "      <td>112.433974</td>\n",
       "      <td>112.254799</td>\n",
       "    </tr>\n",
       "    <tr>\n",
       "      <th>2760</th>\n",
       "      <td>2016-12-28</td>\n",
       "      <td>112.314510</td>\n",
       "      <td>111.357140</td>\n",
       "    </tr>\n",
       "    <tr>\n",
       "      <th>2761</th>\n",
       "      <td>2016-12-29</td>\n",
       "      <td>111.968727</td>\n",
       "      <td>111.739128</td>\n",
       "    </tr>\n",
       "    <tr>\n",
       "      <th>2762</th>\n",
       "      <td>2016-12-30</td>\n",
       "      <td>111.797209</td>\n",
       "      <td>111.853714</td>\n",
       "    </tr>\n",
       "    <tr>\n",
       "      <th>2763</th>\n",
       "      <td>2017-01-03</td>\n",
       "      <td>111.651970</td>\n",
       "      <td>111.213890</td>\n",
       "    </tr>\n",
       "    <tr>\n",
       "      <th>2764</th>\n",
       "      <td>2017-01-04</td>\n",
       "      <td>111.625533</td>\n",
       "      <td>111.481277</td>\n",
       "    </tr>\n",
       "    <tr>\n",
       "      <th>2765</th>\n",
       "      <td>2017-01-05</td>\n",
       "      <td>111.525999</td>\n",
       "      <td>109.810112</td>\n",
       "    </tr>\n",
       "    <tr>\n",
       "      <th>2766</th>\n",
       "      <td>2017-01-06</td>\n",
       "      <td>110.897051</td>\n",
       "      <td>111.061104</td>\n",
       "    </tr>\n",
       "  </tbody>\n",
       "</table>\n",
       "</div>"
      ],
      "text/plain": [
       "           date      pred_y    actual_y\n",
       "2757 2016-12-22  116.626904  112.483986\n",
       "2758 2016-12-23  114.675915  112.187943\n",
       "2759 2016-12-27  112.433974  112.254799\n",
       "2760 2016-12-28  112.314510  111.357140\n",
       "2761 2016-12-29  111.968727  111.739128\n",
       "2762 2016-12-30  111.797209  111.853714\n",
       "2763 2017-01-03  111.651970  111.213890\n",
       "2764 2017-01-04  111.625533  111.481277\n",
       "2765 2017-01-05  111.525999  109.810112\n",
       "2766 2017-01-06  110.897051  111.061104"
      ]
     },
     "execution_count": 14,
     "metadata": {
      "tags": []
     },
     "output_type": "execute_result"
    }
   ],
   "source": [
    "result_df = pd.DataFrame({'date': df[num_train:]['date'],\n",
    "                          'pred_y': est.reshape(-1),\n",
    "                          'actual_y':y_test.reshape(-1)})\n",
    "result_df.head(10)"
   ]
  },
  {
   "cell_type": "code",
   "execution_count": 15,
   "metadata": {
    "colab": {
     "base_uri": "https://localhost:8080/",
     "height": 359
    },
    "colab_type": "code",
    "id": "fJXt9un4XcNi",
    "outputId": "2beb3412-2425-4356-a49d-5580136097cd"
   },
   "outputs": [
    {
     "data": {
      "text/html": [
       "<div>\n",
       "<style scoped>\n",
       "    .dataframe tbody tr th:only-of-type {\n",
       "        vertical-align: middle;\n",
       "    }\n",
       "\n",
       "    .dataframe tbody tr th {\n",
       "        vertical-align: top;\n",
       "    }\n",
       "\n",
       "    .dataframe thead th {\n",
       "        text-align: right;\n",
       "    }\n",
       "</style>\n",
       "<table border=\"1\" class=\"dataframe\">\n",
       "  <thead>\n",
       "    <tr style=\"text-align: right;\">\n",
       "      <th></th>\n",
       "      <th>date</th>\n",
       "      <th>pred_y</th>\n",
       "      <th>actual_y</th>\n",
       "    </tr>\n",
       "  </thead>\n",
       "  <tbody>\n",
       "    <tr>\n",
       "      <th>3436</th>\n",
       "      <td>2019-09-06</td>\n",
       "      <td>197.664961</td>\n",
       "      <td>201.119995</td>\n",
       "    </tr>\n",
       "    <tr>\n",
       "      <th>3437</th>\n",
       "      <td>2019-09-09</td>\n",
       "      <td>199.453632</td>\n",
       "      <td>194.830002</td>\n",
       "    </tr>\n",
       "    <tr>\n",
       "      <th>3438</th>\n",
       "      <td>2019-09-10</td>\n",
       "      <td>198.688035</td>\n",
       "      <td>189.660004</td>\n",
       "    </tr>\n",
       "    <tr>\n",
       "      <th>3439</th>\n",
       "      <td>2019-09-11</td>\n",
       "      <td>195.527198</td>\n",
       "      <td>191.369995</td>\n",
       "    </tr>\n",
       "    <tr>\n",
       "      <th>3440</th>\n",
       "      <td>2019-09-12</td>\n",
       "      <td>192.039377</td>\n",
       "      <td>195.520004</td>\n",
       "    </tr>\n",
       "    <tr>\n",
       "      <th>3441</th>\n",
       "      <td>2019-09-13</td>\n",
       "      <td>192.200578</td>\n",
       "      <td>194.619995</td>\n",
       "    </tr>\n",
       "    <tr>\n",
       "      <th>3442</th>\n",
       "      <td>2019-09-16</td>\n",
       "      <td>193.846637</td>\n",
       "      <td>194.160004</td>\n",
       "    </tr>\n",
       "    <tr>\n",
       "      <th>3443</th>\n",
       "      <td>2019-09-17</td>\n",
       "      <td>194.802782</td>\n",
       "      <td>194.949997</td>\n",
       "    </tr>\n",
       "    <tr>\n",
       "      <th>3444</th>\n",
       "      <td>2019-09-18</td>\n",
       "      <td>194.579960</td>\n",
       "      <td>194.130005</td>\n",
       "    </tr>\n",
       "    <tr>\n",
       "      <th>3445</th>\n",
       "      <td>2019-09-19</td>\n",
       "      <td>194.425105</td>\n",
       "      <td>194.669998</td>\n",
       "    </tr>\n",
       "  </tbody>\n",
       "</table>\n",
       "</div>"
      ],
      "text/plain": [
       "           date      pred_y    actual_y\n",
       "3436 2019-09-06  197.664961  201.119995\n",
       "3437 2019-09-09  199.453632  194.830002\n",
       "3438 2019-09-10  198.688035  189.660004\n",
       "3439 2019-09-11  195.527198  191.369995\n",
       "3440 2019-09-12  192.039377  195.520004\n",
       "3441 2019-09-13  192.200578  194.619995\n",
       "3442 2019-09-16  193.846637  194.160004\n",
       "3443 2019-09-17  194.802782  194.949997\n",
       "3444 2019-09-18  194.579960  194.130005\n",
       "3445 2019-09-19  194.425105  194.669998"
      ]
     },
     "execution_count": 15,
     "metadata": {
      "tags": []
     },
     "output_type": "execute_result"
    }
   ],
   "source": [
    "result_df.tail(10)"
   ]
  },
  {
   "cell_type": "code",
   "execution_count": 16,
   "metadata": {
    "colab": {
     "base_uri": "https://localhost:8080/",
     "height": 485
    },
    "colab_type": "code",
    "id": "51mX6rD4FWGJ",
    "outputId": "88a0afd4-b8db-4030-a7fa-21fcc6f59c3f"
   },
   "outputs": [
    {
     "data": {
      "text/plain": [
       "Text(0, 0.5, 'USD')"
      ]
     },
     "execution_count": 16,
     "metadata": {
      "tags": []
     },
     "output_type": "execute_result"
    },
    {
     "data": {
      "image/png": "[encoded data removed]",
      "text/plain": [
       "<Figure size 720x576 with 1 Axes>"
      ]
     },
     "metadata": {
      "tags": []
     },
     "output_type": "display_data"
    }
   ],
   "source": [
    "rcParams['figure.figsize'] = 10, 8 # width 10, height 8\n",
    "\n",
    "est_df = pd.DataFrame({'est': est.reshape(-1), \n",
    "                       'date': df[num_train:]['date']})\n",
    "\n",
    "ax = train.plot(x='date', y=predict_var, style='b-', grid=True)\n",
    "ax = test.plot(x='date', y=predict_var, style='g-', grid=True, ax=ax)\n",
    "ax = est_df.plot(x='date', y='est', style='r-', grid=True, ax=ax)\n",
    "ax.legend(['train', 'test', 'predictions'])\n",
    "ax.set_xlabel(\"date\")\n",
    "ax.set_ylabel(\"USD\")"
   ]
  },
  {
   "cell_type": "code",
   "execution_count": 17,
   "metadata": {
    "colab": {
     "base_uri": "https://localhost:8080/",
     "height": 506
    },
    "colab_type": "code",
    "id": "_rm2EDOBF4d0",
    "outputId": "a4546c88-e3e9-4338-ad93-3ab17e332825"
   },
   "outputs": [
    {
     "data": {
      "text/plain": [
       "Text(0.5, 1.0, 'Zoom in to test set')"
      ]
     },
     "execution_count": 17,
     "metadata": {
      "tags": []
     },
     "output_type": "execute_result"
    },
    {
     "data": {
      "image/png": "[encoded data removed]",
      "text/plain": [
       "<Figure size 720x576 with 1 Axes>"
      ]
     },
     "metadata": {
      "tags": []
     },
     "output_type": "display_data"
    }
   ],
   "source": [
    "rcParams['figure.figsize'] = 10, 8 # width 10, height 8\n",
    "ax = train.plot(x='date', y=predict_var, style='b-', grid=True)\n",
    "ax = test.plot(x='date', y=predict_var, style='g-', grid=True, ax=ax)\n",
    "ax = est_df.plot(x='date', y='est', style='r-', grid=True, ax=ax)\n",
    "ax.legend(['train',  'test', 'predictions'])\n",
    "ax.set_xlabel(\"date\")\n",
    "ax.set_ylabel(\"USD\")\n",
    "ax.set_xlim([date(2017, 12, 1), date(2019, 9, 5)])\n",
    "ax.set_ylim([130, 200])\n",
    "ax.set_title(\"Zoom in to test set\")"
   ]
  },
  {
   "cell_type": "markdown",
   "metadata": {
    "colab_type": "text",
    "id": "U56fsiKab_gZ"
   },
   "source": [
    "## Save Model"
   ]
  },
  {
   "cell_type": "code",
   "execution_count": 0,
   "metadata": {
    "colab": {},
    "colab_type": "code",
    "id": "QrQ5xo7zcBpg"
   },
   "outputs": [],
   "source": [
    "model.save_weights(base_path+\"model/\"+fileName+\"_model.h5\")"
   ]
  },
  {
   "cell_type": "markdown",
   "metadata": {
    "colab_type": "text",
    "id": "tnNkXwu0s53l"
   },
   "source": [
    "# Prediction"
   ]
  },
  {
   "cell_type": "markdown",
   "metadata": {
    "colab_type": "text",
    "id": "tHHlfRNReb5c"
   },
   "source": [
    "## Load Model"
   ]
  },
  {
   "cell_type": "code",
   "execution_count": 0,
   "metadata": {
    "colab": {},
    "colab_type": "code",
    "id": "uBIjS12Beemo"
   },
   "outputs": [],
   "source": [
    "model.load_weights(base_path+\"model/\"+fileName+\"_model.h5\")"
   ]
  },
  {
   "cell_type": "markdown",
   "metadata": {
    "colab_type": "text",
    "id": "Eb8yM67reiyr"
   },
   "source": [
    "## Predict stock price"
   ]
  },
  {
   "cell_type": "code",
   "execution_count": 20,
   "metadata": {
    "colab": {
     "base_uri": "https://localhost:8080/",
     "height": 51
    },
    "colab_type": "code",
    "id": "efvhqWsXgYCb",
    "outputId": "e90475da-c7e9-4d2c-d5f2-1b7da72a574a"
   },
   "outputs": [
    {
     "name": "stdout",
     "output_type": "stream",
     "text": [
      "Future 3 days prediction: \n"
     ]
    },
    {
     "data": {
      "text/plain": [
       "[194.59422583345557, 194.4662420996759, 194.58320692257624]"
      ]
     },
     "execution_count": 20,
     "metadata": {
      "tags": []
     },
     "output_type": "execute_result"
    }
   ],
   "source": [
    "df_pred = df[predict_var]\n",
    "prediction = []\n",
    "for i in range(pred_N):\n",
    "    df_pred = df_pred[-N:]\n",
    "    pred = np.array(df_pred).reshape(-1,1)\n",
    "    mean = np.mean(pred[0:N])\n",
    "    std = np.std(pred[0:N])\n",
    "    x_pred_scaled = []\n",
    "    x_pred_scaled.append((pred[0:N]-mean)/std)\n",
    "    x_pred_scaled = np.array(x_pred_scaled)\n",
    "    est_scaled = model.predict(x_pred_scaled)\n",
    "    est = est_scaled.item(0) * std + mean\n",
    "    pred_row = pd.Series([est])\n",
    "    df_pred = df_pred.append(pred_row , ignore_index=True)\n",
    "    prediction.append(est)\n",
    "\n",
    "print(\"Future \"+str(pred_N)+\" days prediction: \")\n",
    "prediction\n",
    "    "
   ]
  }
 ],
 "metadata": {
  "colab": {
   "name": "Stock prediction using LSTM.ipynb",
   "provenance": [],
   "toc_visible": true
  },
  "kernelspec": {
   "display_name": "Python 3",
   "language": "python",
   "name": "python3"
  },
  "language_info": {
   "codemirror_mode": {
    "name": "ipython",
    "version": 3
   },
   "file_extension": ".py",
   "mimetype": "text/x-python",
   "name": "python",
   "nbconvert_exporter": "python",
   "pygments_lexer": "ipython3",
   "version": "3.7.3"
  }
 },
 "nbformat": 4,
 "nbformat_minor": 1
}
